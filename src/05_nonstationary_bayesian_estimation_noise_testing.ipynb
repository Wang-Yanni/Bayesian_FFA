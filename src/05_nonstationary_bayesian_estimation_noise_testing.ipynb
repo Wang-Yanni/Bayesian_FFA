{
 "cells": [
  {
   "cell_type": "code",
   "execution_count": 1,
   "metadata": {},
   "outputs": [],
   "source": [
    "import numpy as np\n",
    "import pandas as pd\n",
    "from scipy.stats import uniform, norm\n",
    "from bayesian_estimation_noise_testing import BayesianEstimation, LogLikelihoods"
   ]
  },
  {
   "cell_type": "markdown",
   "metadata": {},
   "source": [
    "# OC Dam"
   ]
  },
  {
   "cell_type": "markdown",
   "metadata": {},
   "source": [
    "## Load systematic data"
   ]
  },
  {
   "cell_type": "code",
   "execution_count": 2,
   "metadata": {},
   "outputs": [],
   "source": [
    "annual_maxima_csv = r\"C:\\ISYE6420\\Homework\\Project\\data\\OC_Dam.csv\"\n",
    "\n",
    "df = pd.read_csv(annual_maxima_csv)\n",
    "df[\"zstd\"] = -norm.ppf(df[\"Plotting_Position\"])\n",
    "\n",
    "# convert flow to array\n",
    "data = df[\"Flow\"].to_xarray()\n",
    "\n",
    "time_index = np.arange(len(data))"
   ]
  },
  {
   "cell_type": "markdown",
   "metadata": {},
   "source": [
    "## Stationary"
   ]
  },
  {
   "cell_type": "code",
   "execution_count": 3,
   "metadata": {},
   "outputs": [
    {
     "name": "stdout",
     "output_type": "stream",
     "text": [
      "Acceptance rates:\n",
      "\n",
      "[0.49320455 0.48961364 0.48647727 0.48711364 0.495     ]\n",
      "\n",
      "Posterior mode:\n",
      "\n",
      "mu                 1.298463\n",
      "sigma              0.699386\n",
      "gamma              0.190637\n",
      "LogLikelihood   -518.023753\n",
      "Name: 4746, dtype: float64\n"
     ]
    }
   ],
   "source": [
    "# Compute the prior limits\n",
    "mu_min, mu_max = 0, 3\n",
    "sigma_min, sigma_max = 0, 2\n",
    "gamma_min, gamma_max = -2, 2\n",
    "\n",
    "# Define the prior distributions\n",
    "priors = [\n",
    "    lambda: uniform.rvs(loc=mu_min, scale=mu_max - mu_min),\n",
    "    lambda: uniform.rvs(loc=sigma_min, scale=sigma_max - sigma_min),\n",
    "    lambda: uniform.rvs(loc=gamma_min, scale=gamma_max - gamma_min)\n",
    "]\n",
    "\n",
    "prior_limits = [\n",
    "    (mu_min, mu_max),\n",
    "    (sigma_min, sigma_max),\n",
    "    (gamma_min, gamma_max)\n",
    "]\n",
    "\n",
    "log_likelihood_func = LogLikelihoods(data).lp3\n",
    "\n",
    "bayesian_estimation_lp3 = BayesianEstimation(\n",
    "    data=data, \n",
    "    log_likelihood_func=log_likelihood_func, \n",
    "    prior=priors, \n",
    "    prior_limits=prior_limits, \n",
    "    seed = 253\n",
    "    )\n",
    "\n",
    "# Run the DEMCz sampler\n",
    "samples, acceptance_rates = bayesian_estimation_lp3.demcz_sampler(\n",
    "    num_chains=5, \n",
    "    iterations=44000, \n",
    "    burn_in=4000, \n",
    "    jump=0.97163, \n",
    "    jump_threshold=0.1,\n",
    "    noise=1e-3,\n",
    "    snooker_threshold=0.1,\n",
    "    thinning_interval=20\n",
    "    )\n",
    "np.save(r'C:\\ISYE6420\\Homework\\Project\\data\\OCD\\OCD_bayesian_stationary_lp3_samples_noise_testing.npy', samples)\n",
    "\n",
    "# Display the acceptance rates\n",
    "print(\"Acceptance rates:\\n\")\n",
    "print(acceptance_rates)\n",
    "\n",
    "# Display the summary statistics\n",
    "summaries_lp3 = bayesian_estimation_lp3.calculate_log_likelihoods(\n",
    "    variable=[\"mu\", \"sigma\", \"gamma\"]\n",
    "    )\n",
    "\n",
    "summaries_lp3.to_csv(r'C:\\ISYE6420\\Homework\\Project\\data\\OCD\\OCD_bayesian_stationary_lp3_summaries_noise_testing.csv', index=False)\n",
    "\n",
    "posterior_mode = summaries_lp3.loc[summaries_lp3['LogLikelihood'].idxmax()]\n",
    "    \n",
    "print(\"\\nPosterior mode:\\n\")\n",
    "print(posterior_mode)"
   ]
  },
  {
   "cell_type": "markdown",
   "metadata": {},
   "source": [
    "## Non-stationary"
   ]
  },
  {
   "cell_type": "markdown",
   "metadata": {},
   "source": [
    "### $\\mu$: linear trend"
   ]
  },
  {
   "cell_type": "code",
   "execution_count": 4,
   "metadata": {},
   "outputs": [
    {
     "name": "stdout",
     "output_type": "stream",
     "text": [
      "Acceptance rates:\n",
      "\n",
      "[0.59029545 0.58836364 0.58265909 0.58825    0.59122727]\n",
      "\n",
      "Posterior mode:\n",
      "\n",
      "beta_0             2.472836\n",
      "beta_1            -0.007364\n",
      "sigma              1.794027\n",
      "gamma              1.607770\n",
      "LogLikelihood   -547.178293\n",
      "Name: 9224, dtype: float64\n"
     ]
    }
   ],
   "source": [
    "# Compute the prior limits\n",
    "beta_0_min, beta_0_max = 0, 3  # Prior for beta_0\n",
    "beta_1_min, beta_1_max = -1, 1  # Prior for beta_1 (slope of mu_t)\n",
    "sigma_min, sigma_max = 0, 2\n",
    "gamma_min, gamma_max = -2, 2\n",
    "\n",
    "# Define the prior distributions\n",
    "priors = [\n",
    "    lambda: uniform.rvs(loc=beta_0_min, scale=beta_0_max - beta_0_min),\n",
    "    lambda: uniform.rvs(loc=beta_1_min, scale=beta_1_max - beta_1_min),\n",
    "    lambda: uniform.rvs(loc=sigma_min, scale=sigma_max - sigma_min),\n",
    "    lambda: uniform.rvs(loc=gamma_min, scale=gamma_max - gamma_min)\n",
    "]\n",
    "\n",
    "prior_limits = [\n",
    "    (beta_0_min, beta_0_max),\n",
    "    (beta_1_min, beta_1_max),\n",
    "    (sigma_min, sigma_max),\n",
    "    (gamma_min, gamma_max)\n",
    "]\n",
    "\n",
    "log_likelihood_func_linear = lambda theta: LogLikelihoods(data).lp3_mu(\n",
    "    theta, \n",
    "    time_index, \n",
    "    model_type = \"linear\"\n",
    "    )\n",
    "\n",
    "bayesian_estimation_lp3 = BayesianEstimation(\n",
    "    data=data, \n",
    "    log_likelihood_func=log_likelihood_func_linear, \n",
    "    prior=priors, \n",
    "    prior_limits=prior_limits, \n",
    "    seed = 253\n",
    "    )\n",
    "\n",
    "# Run the DEMCz sampler\n",
    "samples, acceptance_rates = bayesian_estimation_lp3.demcz_sampler(\n",
    "    num_chains=5, \n",
    "    iterations=44000, \n",
    "    burn_in=4000, \n",
    "    jump=0.84145, \n",
    "    jump_threshold=0.1,\n",
    "    noise=1e-3,\n",
    "    snooker_threshold=0.1,\n",
    "    thinning_interval=20\n",
    "    )\n",
    "np.save(r'C:\\ISYE6420\\Homework\\Project\\data\\OCD\\OCD_bayesian_linear_mu_lp3_samples_noise_testing.npy', samples)\n",
    "\n",
    "# Display the acceptance rates\n",
    "print(\"Acceptance rates:\\n\")\n",
    "print(acceptance_rates)\n",
    "\n",
    "summaries_lp3 = bayesian_estimation_lp3.calculate_log_likelihoods(\n",
    "    variable=[\"beta_0\", \"beta_1\", \"sigma\", \"gamma\"]\n",
    "    )\n",
    "\n",
    "summaries_lp3.to_csv(r'C:\\ISYE6420\\Homework\\Project\\data\\OCD\\OCD_bayesian_linear_mu_lp3_summaries_noise_testing.csv', index=False)\n",
    "\n",
    "posterior_mode = summaries_lp3.loc[summaries_lp3['LogLikelihood'].idxmax()]\n",
    "    \n",
    "print(\"\\nPosterior mode:\\n\")\n",
    "print(posterior_mode)"
   ]
  },
  {
   "cell_type": "markdown",
   "metadata": {},
   "source": [
    "### $\\mu$: exponential trend"
   ]
  },
  {
   "cell_type": "code",
   "execution_count": 5,
   "metadata": {},
   "outputs": [
    {
     "name": "stdout",
     "output_type": "stream",
     "text": [
      "Acceptance rates:\n",
      "\n",
      "[0.39815909 0.39463636 0.38813636 0.38943182 0.40136364]\n",
      "\n",
      "Posterior mode:\n",
      "\n",
      "beta_0             1.961026\n",
      "beta_1             0.008244\n",
      "sigma              0.639041\n",
      "gamma              0.034694\n",
      "LogLikelihood   -505.124453\n",
      "Name: 5765, dtype: float64\n"
     ]
    }
   ],
   "source": [
    "# Compute the prior limits\n",
    "beta_0_min, beta_0_max = 0, 3  # Prior for beta_0\n",
    "beta_1_min, beta_1_max = -1, 1  # Prior for beta_1 (slope of mu_t)\n",
    "sigma_min, sigma_max = 0, 2\n",
    "gamma_min, gamma_max = -2, 2\n",
    "\n",
    "# Define the prior distributions\n",
    "priors = [\n",
    "    lambda: uniform.rvs(loc=beta_0_min, scale=beta_0_max - beta_0_min),\n",
    "    lambda: uniform.rvs(loc=beta_1_min, scale=beta_1_max - beta_1_min),\n",
    "    lambda: uniform.rvs(loc=sigma_min, scale=sigma_max - sigma_min),\n",
    "    lambda: uniform.rvs(loc=gamma_min, scale=gamma_max - gamma_min)\n",
    "]\n",
    "\n",
    "prior_limits = [\n",
    "    (beta_0_min, beta_0_max),\n",
    "    (beta_1_min, beta_1_max),\n",
    "    (sigma_min, sigma_max),\n",
    "    (gamma_min, gamma_max)\n",
    "]\n",
    "\n",
    "log_likelihood_func_linear = lambda theta: LogLikelihoods(data).lp3_mu(\n",
    "    theta, \n",
    "    time_index, \n",
    "    model_type = \"exponential\"\n",
    "    )\n",
    "\n",
    "bayesian_estimation_lp3 = BayesianEstimation(\n",
    "    data=data, \n",
    "    log_likelihood_func=log_likelihood_func_linear, \n",
    "    prior=priors, \n",
    "    prior_limits=prior_limits, \n",
    "    seed = 253\n",
    "    )\n",
    "\n",
    "# Run the DEMCz sampler\n",
    "samples, acceptance_rates = bayesian_estimation_lp3.demcz_sampler(\n",
    "    num_chains=5, \n",
    "    iterations=44000, \n",
    "    burn_in=4000, \n",
    "    jump=0.84145, \n",
    "    jump_threshold=0.1,\n",
    "    noise=1e-3,\n",
    "    snooker_threshold=0.1,\n",
    "    thinning_interval=20\n",
    "    )\n",
    "np.save(r'C:\\ISYE6420\\Homework\\Project\\data\\OCD\\OCD_bayesian_exponential_mu_lp3_samples_noise_testing.npy', samples)\n",
    "\n",
    "# Display the acceptance rates\n",
    "print(\"Acceptance rates:\\n\")\n",
    "print(acceptance_rates)\n",
    "\n",
    "summaries_lp3 = bayesian_estimation_lp3.calculate_log_likelihoods(\n",
    "    variable=[\"beta_0\", \"beta_1\", \"sigma\", \"gamma\"]\n",
    "    )\n",
    "\n",
    "summaries_lp3.to_csv(r'C:\\ISYE6420\\Homework\\Project\\data\\OCD\\OCD_bayesian_exponential_mu_lp3_summaries_noise_testing.csv', index=False)\n",
    "\n",
    "posterior_mode = summaries_lp3.loc[summaries_lp3['LogLikelihood'].idxmax()]\n",
    "    \n",
    "print(\"\\nPosterior mode:\\n\")\n",
    "print(posterior_mode)"
   ]
  }
 ],
 "metadata": {
  "kernelspec": {
   "display_name": "pymc",
   "language": "python",
   "name": "python3"
  },
  "language_info": {
   "codemirror_mode": {
    "name": "ipython",
    "version": 3
   },
   "file_extension": ".py",
   "mimetype": "text/x-python",
   "name": "python",
   "nbconvert_exporter": "python",
   "pygments_lexer": "ipython3",
   "version": "3.12.7"
  }
 },
 "nbformat": 4,
 "nbformat_minor": 2
}
