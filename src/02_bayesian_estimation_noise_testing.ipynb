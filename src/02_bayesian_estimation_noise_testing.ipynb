{
 "cells": [
  {
   "cell_type": "code",
   "execution_count": 1,
   "metadata": {},
   "outputs": [],
   "source": [
    "import numpy as np\n",
    "import pandas as pd\n",
    "from scipy.stats import uniform, norm\n",
    "from bayesian_estimation_noise_testing import BayesianEstimation, LogLikelihoods\n",
    "from utils import *\n"
   ]
  },
  {
   "cell_type": "markdown",
   "metadata": {},
   "source": [
    "# Harricana River"
   ]
  },
  {
   "cell_type": "markdown",
   "metadata": {},
   "source": [
    "## Load systematic data"
   ]
  },
  {
   "cell_type": "code",
   "execution_count": 2,
   "metadata": {},
   "outputs": [],
   "source": [
    "annual_maxima_csv = r\"C:\\ISYE6420\\Homework\\Project\\data\\Harricana_River_at_Amos.csv\"\n",
    "\n",
    "df = pd.read_csv(annual_maxima_csv)\n",
    "df[\"zstd\"] = -norm.ppf(df[\"Plotting_Position\"])\n",
    "\n",
    "# convert flow to array\n",
    "data = df[\"Flow\"].to_xarray()"
   ]
  },
  {
   "cell_type": "markdown",
   "metadata": {},
   "source": [
    "## Bayesian estimation"
   ]
  },
  {
   "cell_type": "code",
   "execution_count": 3,
   "metadata": {},
   "outputs": [
    {
     "name": "stdout",
     "output_type": "stream",
     "text": [
      "Acceptance rates:\n",
      "\n",
      "[0.50893182 0.51265909 0.50445455 0.51472727 0.5175    ]\n",
      "\n",
      "Posterior mode:\n",
      "\n",
      "mu                 2.269563\n",
      "sigma              0.105944\n",
      "gamma             -0.023311\n",
      "LogLikelihood   -361.192712\n",
      "Name: 3975, dtype: float64\n"
     ]
    }
   ],
   "source": [
    "# Compute the prior limits\n",
    "mu_min, mu_max = 0, 4\n",
    "sigma_min, sigma_max = 0, 2\n",
    "gamma_min, gamma_max = -2, 2\n",
    "\n",
    "# Define the prior distributions\n",
    "priors = [\n",
    "    lambda: uniform.rvs(loc=mu_min, scale=mu_max - mu_min),\n",
    "    lambda: uniform.rvs(loc=sigma_min, scale=sigma_max - sigma_min),\n",
    "    lambda: uniform.rvs(loc=gamma_min, scale=gamma_max - gamma_min)\n",
    "]\n",
    "\n",
    "prior_limits = [\n",
    "    (mu_min, mu_max),\n",
    "    (sigma_min, sigma_max),\n",
    "    (gamma_min, gamma_max)\n",
    "]\n",
    "\n",
    "log_likelihood_func = LogLikelihoods(data).lp3\n",
    "bayesian_estimation_lp3 = BayesianEstimation(\n",
    "    data=data, \n",
    "    log_likelihood_func=log_likelihood_func, \n",
    "    prior=priors, \n",
    "    prior_limits=prior_limits, \n",
    "    seed=253\n",
    "    )\n",
    "\n",
    "# Run the DEMCz sampler\n",
    "samples, acceptance_rates = bayesian_estimation_lp3.demcz_sampler(\n",
    "    num_chains=5, \n",
    "    iterations=44000, \n",
    "    burn_in=4000, \n",
    "    jump=0.97163, \n",
    "    jump_threshold=0.1,\n",
    "    noise=1e-3,\n",
    "    snooker_threshold=0.1,\n",
    "    thinning_interval=20\n",
    "    )\n",
    "np.save(r'C:\\ISYE6420\\Homework\\Project\\data\\HRA\\HRA_bayesian_samples_noise_testing.npy', samples)\n",
    "\n",
    "# Display the acceptance rates\n",
    "print(\"Acceptance rates:\\n\")\n",
    "print(acceptance_rates)\n",
    "\n",
    "# Display the summary statistics\n",
    "summaries_lp3 = bayesian_estimation_lp3.calculate_log_likelihoods(\n",
    "    variable=[\"mu\", \"sigma\", \"gamma\"]\n",
    "    )\n",
    "summaries_lp3.to_csv(r'C:\\ISYE6420\\Homework\\Project\\data\\HRA\\HRA_bayesian_lp3_summaries_noise_testing.csv', index=False)\n",
    "    \n",
    "posterior_mode = summaries_lp3.loc[summaries_lp3['LogLikelihood'].idxmax()]\n",
    "    \n",
    "print(\"\\nPosterior mode:\\n\")\n",
    "print(posterior_mode)"
   ]
  }
 ],
 "metadata": {
  "kernelspec": {
   "display_name": "pymc",
   "language": "python",
   "name": "python3"
  },
  "language_info": {
   "codemirror_mode": {
    "name": "ipython",
    "version": 3
   },
   "file_extension": ".py",
   "mimetype": "text/x-python",
   "name": "python",
   "nbconvert_exporter": "python",
   "pygments_lexer": "ipython3",
   "version": "3.12.7"
  }
 },
 "nbformat": 4,
 "nbformat_minor": 2
}
